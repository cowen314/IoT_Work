{
 "cells": [
  {
   "cell_type": "markdown",
   "metadata": {},
   "source": [
    "The step counting module, ported to python. There may still be a few bugs.\n",
    "\n",
    "Note that this module is meant to take windows of data (roughly 256 samples) sampled at around 200Hz."
   ]
  },
  {
   "cell_type": "code",
   "execution_count": 149,
   "metadata": {
    "collapsed": true
   },
   "outputs": [],
   "source": [
    "import numpy as np\n",
    "from scipy import signal\n",
    "import matplotlib.pyplot as plt\n",
    "import pandas as pd\n",
    "import peakdetect\n",
    "%matplotlib inline"
   ]
  },
  {
   "cell_type": "code",
   "execution_count": 179,
   "metadata": {
    "collapsed": false
   },
   "outputs": [],
   "source": [
    "# read in some data\n",
    "filename = \"C:\\Users\\owencb\\Documents\\CSSE491\\Data\\Ground_Truth_Treadmill2.csv\"\n",
    "data = pd.read_csv(filename,skiprows=[0,1],usecols=[5])\n",
    "# data = np.arange(1,200)\n",
    "data.head()\n",
    "data = data.as_matrix()\n",
    "data = data[182850:(182850+256*2)]"
   ]
  },
  {
   "cell_type": "code",
   "execution_count": 180,
   "metadata": {
    "collapsed": false
   },
   "outputs": [],
   "source": [
    "# break the time domain signal into 8-long windows\n",
    "data = data - np.mean(data)\n",
    "data = data[0:(len(data)-len(data)%8)] #disregard end samples\n",
    "data = np.reshape(data,(-1,8))\n",
    "energy = np.sum(np.square(data),axis=1)"
   ]
  },
  {
   "cell_type": "code",
   "execution_count": 181,
   "metadata": {
    "collapsed": false
   },
   "outputs": [
    {
     "name": "stdout",
     "output_type": "stream",
     "text": [
      "0.100489529816\n"
     ]
    }
   ],
   "source": [
    "enThreshold = 1.5*np.mean(energy)\n",
    "for i in range(len(energy)):\n",
    "    if energy[i]<enThreshold:\n",
    "        energy[i] = 0\n",
    "print enThreshold"
   ]
  },
  {
   "cell_type": "code",
   "execution_count": 182,
   "metadata": {
    "collapsed": false
   },
   "outputs": [
    {
     "data": {
      "image/png": "[encoded data removed]",
      "text/plain": [
       "<matplotlib.figure.Figure at 0x2b3b40f0>"
      ]
     },
     "metadata": {},
     "output_type": "display_data"
    },
    {
     "name": "stdout",
     "output_type": "stream",
     "text": [
      "[  7.  14.  21.  31.  45.  47.  56.  58.  61.]\n",
      "Total peaks:  9\n"
     ]
    }
   ],
   "source": [
    "#pkInds = signal.find_peaks_cwt(energy,np.arange(1,10))\n",
    "# using enThreshold as delta in peakdet() is arbitrary\n",
    "pkInds,o2 = peakdetect.peakdet(energy,enThreshold)\n",
    "# yeah, this peak detection method needs to at least have the min distance capability\n",
    "# potentially do this after the fact\n",
    "plt.plot(energy)\n",
    "plt.show()\n",
    "print pkInds[:,0]\n",
    "print \"Total peaks: \",len(pkInds)"
   ]
  },
  {
   "cell_type": "markdown",
   "metadata": {},
   "source": [
    "When using find_peaks_cwt : seems to work pretty well when like 256*10 samples (10 windows) of data are run through.  With two little data (e.g. 256 samples) it doesn't work, and with two many samples it doesn't work.  I think I might just need to look for a better peak finding algorithm."
   ]
  },
  {
   "cell_type": "markdown",
   "metadata": {},
   "source": [
    "When using peakdet(), min distance peak stuff needs to be added. 1mph doesn't work well without it.  Simply keep the largest peaks in an area?"
   ]
  },
  {
   "cell_type": "code",
   "execution_count": null,
   "metadata": {
    "collapsed": true
   },
   "outputs": [],
   "source": []
  }
 ],
 "metadata": {
  "kernelspec": {
   "display_name": "Python 2",
   "language": "python",
   "name": "python2"
  },
  "language_info": {
   "codemirror_mode": {
    "name": "ipython",
    "version": 2
   },
   "file_extension": ".py",
   "mimetype": "text/x-python",
   "name": "python",
   "nbconvert_exporter": "python",
   "pygments_lexer": "ipython2",
   "version": "2.7.11"
  }
 },
 "nbformat": 4,
 "nbformat_minor": 0
}
